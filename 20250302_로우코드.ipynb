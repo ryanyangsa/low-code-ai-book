{
  "nbformat": 4,
  "nbformat_minor": 0,
  "metadata": {
    "colab": {
      "provenance": [],
      "authorship_tag": "ABX9TyOm+dJHZlk1cRcUchOYxedf",
      "include_colab_link": true
    },
    "kernelspec": {
      "name": "python3",
      "display_name": "Python 3"
    },
    "language_info": {
      "name": "python"
    }
  },
  "cells": [
    {
      "cell_type": "markdown",
      "metadata": {
        "id": "view-in-github",
        "colab_type": "text"
      },
      "source": [
        "<a href=\"https://colab.research.google.com/github/ryanyangsa/low-code-ai-book/blob/main/20250302_%EB%A1%9C%EC%9A%B0%EC%BD%94%EB%93%9C.ipynb\" target=\"_parent\"><img src=\"https://colab.research.google.com/assets/colab-badge.svg\" alt=\"Open In Colab\"/></a>"
      ]
    },
    {
      "cell_type": "code",
      "execution_count": 1,
      "metadata": {
        "id": "kvBKWSEmcPjD"
      },
      "outputs": [],
      "source": [
        "import pandas as pd"
      ]
    },
    {
      "cell_type": "code",
      "source": [
        "url = 'https://data.cdc.gov/api/views/55yu-xksw/rows.csv?accessType=DOWNLOAD'"
      ],
      "metadata": {
        "id": "pnupZLWNcvfO"
      },
      "execution_count": 3,
      "outputs": []
    },
    {
      "cell_type": "code",
      "source": [
        "heart_df = pd.read_csv(url, index_col=0)"
      ],
      "metadata": {
        "id": "fxaieOUzdHH7"
      },
      "execution_count": 4,
      "outputs": []
    },
    {
      "cell_type": "code",
      "source": [
        "heart_df.info()"
      ],
      "metadata": {
        "colab": {
          "base_uri": "https://localhost:8080/"
        },
        "id": "vXHDwETUdJFG",
        "outputId": "a9d2563c-e38e-4ee2-c9f5-bda02a17a2a7"
      },
      "execution_count": 5,
      "outputs": [
        {
          "output_type": "stream",
          "name": "stdout",
          "text": [
            "<class 'pandas.core.frame.DataFrame'>\n",
            "Index: 78792 entries, 2020 to 2020\n",
            "Data columns (total 20 columns):\n",
            " #   Column                      Non-Null Count  Dtype  \n",
            "---  ------                      --------------  -----  \n",
            " 0   LocationAbbr                78792 non-null  object \n",
            " 1   LocationDesc                78792 non-null  object \n",
            " 2   GeographicLevel             78792 non-null  object \n",
            " 3   DataSource                  78792 non-null  object \n",
            " 4   Class                       78792 non-null  object \n",
            " 5   Topic                       78792 non-null  object \n",
            " 6   Data_Value                  34430 non-null  float64\n",
            " 7   Data_Value_Unit             78792 non-null  object \n",
            " 8   Data_Value_Type             78792 non-null  object \n",
            " 9   Data_Value_Footnote_Symbol  44362 non-null  object \n",
            " 10  Data_Value_Footnote         44362 non-null  object \n",
            " 11  StratificationCategory1     78792 non-null  object \n",
            " 12  Stratification1             78792 non-null  object \n",
            " 13  StratificationCategory2     78792 non-null  object \n",
            " 14  Stratification2             78792 non-null  object \n",
            " 15  TopicID                     78792 non-null  object \n",
            " 16  LocationID                  78792 non-null  int64  \n",
            " 17  Y_lat                       78768 non-null  float64\n",
            " 18  X_lon                       78768 non-null  float64\n",
            " 19  Georeference                78768 non-null  object \n",
            "dtypes: float64(3), int64(1), object(16)\n",
            "memory usage: 12.6+ MB\n"
          ]
        }
      ]
    },
    {
      "cell_type": "code",
      "source": [
        "heart_df.isnull().sum()"
      ],
      "metadata": {
        "colab": {
          "base_uri": "https://localhost:8080/",
          "height": 711
        },
        "id": "B01yrDWKdKG3",
        "outputId": "4e95b47c-90e3-4519-e18b-a46bc0e878fd"
      },
      "execution_count": 6,
      "outputs": [
        {
          "output_type": "execute_result",
          "data": {
            "text/plain": [
              "LocationAbbr                      0\n",
              "LocationDesc                      0\n",
              "GeographicLevel                   0\n",
              "DataSource                        0\n",
              "Class                             0\n",
              "Topic                             0\n",
              "Data_Value                    44362\n",
              "Data_Value_Unit                   0\n",
              "Data_Value_Type                   0\n",
              "Data_Value_Footnote_Symbol    34430\n",
              "Data_Value_Footnote           34430\n",
              "StratificationCategory1           0\n",
              "Stratification1                   0\n",
              "StratificationCategory2           0\n",
              "Stratification2                   0\n",
              "TopicID                           0\n",
              "LocationID                        0\n",
              "Y_lat                            24\n",
              "X_lon                            24\n",
              "Georeference                     24\n",
              "dtype: int64"
            ],
            "text/html": [
              "<div>\n",
              "<style scoped>\n",
              "    .dataframe tbody tr th:only-of-type {\n",
              "        vertical-align: middle;\n",
              "    }\n",
              "\n",
              "    .dataframe tbody tr th {\n",
              "        vertical-align: top;\n",
              "    }\n",
              "\n",
              "    .dataframe thead th {\n",
              "        text-align: right;\n",
              "    }\n",
              "</style>\n",
              "<table border=\"1\" class=\"dataframe\">\n",
              "  <thead>\n",
              "    <tr style=\"text-align: right;\">\n",
              "      <th></th>\n",
              "      <th>0</th>\n",
              "    </tr>\n",
              "  </thead>\n",
              "  <tbody>\n",
              "    <tr>\n",
              "      <th>LocationAbbr</th>\n",
              "      <td>0</td>\n",
              "    </tr>\n",
              "    <tr>\n",
              "      <th>LocationDesc</th>\n",
              "      <td>0</td>\n",
              "    </tr>\n",
              "    <tr>\n",
              "      <th>GeographicLevel</th>\n",
              "      <td>0</td>\n",
              "    </tr>\n",
              "    <tr>\n",
              "      <th>DataSource</th>\n",
              "      <td>0</td>\n",
              "    </tr>\n",
              "    <tr>\n",
              "      <th>Class</th>\n",
              "      <td>0</td>\n",
              "    </tr>\n",
              "    <tr>\n",
              "      <th>Topic</th>\n",
              "      <td>0</td>\n",
              "    </tr>\n",
              "    <tr>\n",
              "      <th>Data_Value</th>\n",
              "      <td>44362</td>\n",
              "    </tr>\n",
              "    <tr>\n",
              "      <th>Data_Value_Unit</th>\n",
              "      <td>0</td>\n",
              "    </tr>\n",
              "    <tr>\n",
              "      <th>Data_Value_Type</th>\n",
              "      <td>0</td>\n",
              "    </tr>\n",
              "    <tr>\n",
              "      <th>Data_Value_Footnote_Symbol</th>\n",
              "      <td>34430</td>\n",
              "    </tr>\n",
              "    <tr>\n",
              "      <th>Data_Value_Footnote</th>\n",
              "      <td>34430</td>\n",
              "    </tr>\n",
              "    <tr>\n",
              "      <th>StratificationCategory1</th>\n",
              "      <td>0</td>\n",
              "    </tr>\n",
              "    <tr>\n",
              "      <th>Stratification1</th>\n",
              "      <td>0</td>\n",
              "    </tr>\n",
              "    <tr>\n",
              "      <th>StratificationCategory2</th>\n",
              "      <td>0</td>\n",
              "    </tr>\n",
              "    <tr>\n",
              "      <th>Stratification2</th>\n",
              "      <td>0</td>\n",
              "    </tr>\n",
              "    <tr>\n",
              "      <th>TopicID</th>\n",
              "      <td>0</td>\n",
              "    </tr>\n",
              "    <tr>\n",
              "      <th>LocationID</th>\n",
              "      <td>0</td>\n",
              "    </tr>\n",
              "    <tr>\n",
              "      <th>Y_lat</th>\n",
              "      <td>24</td>\n",
              "    </tr>\n",
              "    <tr>\n",
              "      <th>X_lon</th>\n",
              "      <td>24</td>\n",
              "    </tr>\n",
              "    <tr>\n",
              "      <th>Georeference</th>\n",
              "      <td>24</td>\n",
              "    </tr>\n",
              "  </tbody>\n",
              "</table>\n",
              "</div><br><label><b>dtype:</b> int64</label>"
            ]
          },
          "metadata": {},
          "execution_count": 6
        }
      ]
    },
    {
      "cell_type": "code",
      "source": [
        "heart_df =pd.read_csv('/content/heart.csv', on_bad_lines=\"skip\", engine=\"python\")"
      ],
      "metadata": {
        "id": "dH0sum6oem9U"
      },
      "execution_count": 7,
      "outputs": []
    },
    {
      "cell_type": "code",
      "source": [
        "heart_df.info()"
      ],
      "metadata": {
        "colab": {
          "base_uri": "https://localhost:8080/"
        },
        "id": "sw2PpJbMe-gX",
        "outputId": "4c8681c6-2906-4cc8-ed0f-2d7767972f9e"
      },
      "execution_count": 8,
      "outputs": [
        {
          "output_type": "stream",
          "name": "stdout",
          "text": [
            "<class 'pandas.core.frame.DataFrame'>\n",
            "RangeIndex: 78792 entries, 0 to 78791\n",
            "Data columns (total 21 columns):\n",
            " #   Column                      Non-Null Count  Dtype  \n",
            "---  ------                      --------------  -----  \n",
            " 0   Year                        78792 non-null  int64  \n",
            " 1   LocationAbbr                78792 non-null  object \n",
            " 2   LocationDesc                78792 non-null  object \n",
            " 3   GeographicLevel             78792 non-null  object \n",
            " 4   DataSource                  78792 non-null  object \n",
            " 5   Class                       78792 non-null  object \n",
            " 6   Topic                       78792 non-null  object \n",
            " 7   Data_Value                  34430 non-null  float64\n",
            " 8   Data_Value_Unit             78792 non-null  object \n",
            " 9   Data_Value_Type             78792 non-null  object \n",
            " 10  Data_Value_Footnote_Symbol  44362 non-null  object \n",
            " 11  Data_Value_Footnote         44362 non-null  object \n",
            " 12  StratificationCategory1     78792 non-null  object \n",
            " 13  Stratification1             78792 non-null  object \n",
            " 14  StratificationCategory2     78792 non-null  object \n",
            " 15  Stratification2             78792 non-null  object \n",
            " 16  TopicID                     78792 non-null  object \n",
            " 17  LocationID                  78792 non-null  int64  \n",
            " 18  Y_lat                       78768 non-null  float64\n",
            " 19  X_lon                       78768 non-null  float64\n",
            " 20  Georeference                78768 non-null  object \n",
            "dtypes: float64(3), int64(2), object(16)\n",
            "memory usage: 12.6+ MB\n"
          ]
        }
      ]
    },
    {
      "cell_type": "code",
      "source": [
        "heart_df.isnull().sum()"
      ],
      "metadata": {
        "colab": {
          "base_uri": "https://localhost:8080/",
          "height": 742
        },
        "id": "vpEqwTd7fACI",
        "outputId": "1836374b-57e1-48da-9427-c26698580f61"
      },
      "execution_count": 9,
      "outputs": [
        {
          "output_type": "execute_result",
          "data": {
            "text/plain": [
              "Year                              0\n",
              "LocationAbbr                      0\n",
              "LocationDesc                      0\n",
              "GeographicLevel                   0\n",
              "DataSource                        0\n",
              "Class                             0\n",
              "Topic                             0\n",
              "Data_Value                    44362\n",
              "Data_Value_Unit                   0\n",
              "Data_Value_Type                   0\n",
              "Data_Value_Footnote_Symbol    34430\n",
              "Data_Value_Footnote           34430\n",
              "StratificationCategory1           0\n",
              "Stratification1                   0\n",
              "StratificationCategory2           0\n",
              "Stratification2                   0\n",
              "TopicID                           0\n",
              "LocationID                        0\n",
              "Y_lat                            24\n",
              "X_lon                            24\n",
              "Georeference                     24\n",
              "dtype: int64"
            ],
            "text/html": [
              "<div>\n",
              "<style scoped>\n",
              "    .dataframe tbody tr th:only-of-type {\n",
              "        vertical-align: middle;\n",
              "    }\n",
              "\n",
              "    .dataframe tbody tr th {\n",
              "        vertical-align: top;\n",
              "    }\n",
              "\n",
              "    .dataframe thead th {\n",
              "        text-align: right;\n",
              "    }\n",
              "</style>\n",
              "<table border=\"1\" class=\"dataframe\">\n",
              "  <thead>\n",
              "    <tr style=\"text-align: right;\">\n",
              "      <th></th>\n",
              "      <th>0</th>\n",
              "    </tr>\n",
              "  </thead>\n",
              "  <tbody>\n",
              "    <tr>\n",
              "      <th>Year</th>\n",
              "      <td>0</td>\n",
              "    </tr>\n",
              "    <tr>\n",
              "      <th>LocationAbbr</th>\n",
              "      <td>0</td>\n",
              "    </tr>\n",
              "    <tr>\n",
              "      <th>LocationDesc</th>\n",
              "      <td>0</td>\n",
              "    </tr>\n",
              "    <tr>\n",
              "      <th>GeographicLevel</th>\n",
              "      <td>0</td>\n",
              "    </tr>\n",
              "    <tr>\n",
              "      <th>DataSource</th>\n",
              "      <td>0</td>\n",
              "    </tr>\n",
              "    <tr>\n",
              "      <th>Class</th>\n",
              "      <td>0</td>\n",
              "    </tr>\n",
              "    <tr>\n",
              "      <th>Topic</th>\n",
              "      <td>0</td>\n",
              "    </tr>\n",
              "    <tr>\n",
              "      <th>Data_Value</th>\n",
              "      <td>44362</td>\n",
              "    </tr>\n",
              "    <tr>\n",
              "      <th>Data_Value_Unit</th>\n",
              "      <td>0</td>\n",
              "    </tr>\n",
              "    <tr>\n",
              "      <th>Data_Value_Type</th>\n",
              "      <td>0</td>\n",
              "    </tr>\n",
              "    <tr>\n",
              "      <th>Data_Value_Footnote_Symbol</th>\n",
              "      <td>34430</td>\n",
              "    </tr>\n",
              "    <tr>\n",
              "      <th>Data_Value_Footnote</th>\n",
              "      <td>34430</td>\n",
              "    </tr>\n",
              "    <tr>\n",
              "      <th>StratificationCategory1</th>\n",
              "      <td>0</td>\n",
              "    </tr>\n",
              "    <tr>\n",
              "      <th>Stratification1</th>\n",
              "      <td>0</td>\n",
              "    </tr>\n",
              "    <tr>\n",
              "      <th>StratificationCategory2</th>\n",
              "      <td>0</td>\n",
              "    </tr>\n",
              "    <tr>\n",
              "      <th>Stratification2</th>\n",
              "      <td>0</td>\n",
              "    </tr>\n",
              "    <tr>\n",
              "      <th>TopicID</th>\n",
              "      <td>0</td>\n",
              "    </tr>\n",
              "    <tr>\n",
              "      <th>LocationID</th>\n",
              "      <td>0</td>\n",
              "    </tr>\n",
              "    <tr>\n",
              "      <th>Y_lat</th>\n",
              "      <td>24</td>\n",
              "    </tr>\n",
              "    <tr>\n",
              "      <th>X_lon</th>\n",
              "      <td>24</td>\n",
              "    </tr>\n",
              "    <tr>\n",
              "      <th>Georeference</th>\n",
              "      <td>24</td>\n",
              "    </tr>\n",
              "  </tbody>\n",
              "</table>\n",
              "</div><br><label><b>dtype:</b> int64</label>"
            ]
          },
          "metadata": {},
          "execution_count": 9
        }
      ]
    },
    {
      "cell_type": "code",
      "source": [
        "heart_df.Stratification2.unique()"
      ],
      "metadata": {
        "colab": {
          "base_uri": "https://localhost:8080/"
        },
        "id": "P12sICBLfCYU",
        "outputId": "b9f89e72-2209-4c7c-87b3-529461183302"
      },
      "execution_count": 10,
      "outputs": [
        {
          "output_type": "execute_result",
          "data": {
            "text/plain": [
              "array(['White', 'More than one race', 'Asian', 'Hispanic', 'Black',\n",
              "       'Overall', 'American Indian or Alaska Native',\n",
              "       'Native Hawaiian or Other Pacific Islander'], dtype=object)"
            ]
          },
          "metadata": {},
          "execution_count": 10
        }
      ]
    },
    {
      "cell_type": "code",
      "source": [
        "import seaborn as sns"
      ],
      "metadata": {
        "id": "r5BVxb0-faYB"
      },
      "execution_count": 11,
      "outputs": []
    },
    {
      "cell_type": "code",
      "source": [
        "sns.violinplot(x=\"Data_Value\", y=\"Stratification2\", data=heart_df)"
      ],
      "metadata": {
        "colab": {
          "base_uri": "https://localhost:8080/",
          "height": 467
        },
        "id": "zkd7gK6wft1_",
        "outputId": "f8c9514c-b0c6-48a5-ba4a-14a831f867bb"
      },
      "execution_count": 12,
      "outputs": [
        {
          "output_type": "execute_result",
          "data": {
            "text/plain": [
              "<Axes: xlabel='Data_Value', ylabel='Stratification2'>"
            ]
          },
          "metadata": {},
          "execution_count": 12
        },
        {
          "output_type": "display_data",
          "data": {
            "text/plain": [
              "<Figure size 640x480 with 1 Axes>"
            ],
            "image/png": "[encoded data removed]"
          },
          "metadata": {}
        }
      ]
    },
    {
      "cell_type": "code",
      "source": [
        "sns.displot(heart_df['Data_Value'])"
      ],
      "metadata": {
        "colab": {
          "base_uri": "https://localhost:8080/",
          "height": 523
        },
        "id": "b34waoQ5fy2d",
        "outputId": "23f81097-df14-4474-83c3-3a429d5be4cd"
      },
      "execution_count": 13,
      "outputs": [
        {
          "output_type": "execute_result",
          "data": {
            "text/plain": [
              "<seaborn.axisgrid.FacetGrid at 0x7e11e717ca50>"
            ]
          },
          "metadata": {},
          "execution_count": 13
        },
        {
          "output_type": "display_data",
          "data": {
            "text/plain": [
              "<Figure size 500x500 with 1 Axes>"
            ],
            "image/png": "[encoded data removed]"
          },
          "metadata": {}
        }
      ]
    },
    {
      "cell_type": "code",
      "source": [],
      "metadata": {
        "id": "a1sTDLief7JA"
      },
      "execution_count": null,
      "outputs": []
    }
  ]
}